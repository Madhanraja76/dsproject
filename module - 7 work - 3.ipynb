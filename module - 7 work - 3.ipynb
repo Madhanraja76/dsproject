{
 "cells": [
  {
   "cell_type": "code",
   "execution_count": 1,
   "id": "2a0bc635",
   "metadata": {},
   "outputs": [],
   "source": [
    "import pandas as pd\n",
    "import numpy as np\n",
    "import matplotlib.pyplot as plt\n",
    "import os\n",
    "import warnings\n",
    "warnings.filterwarnings('ignore')\n",
    "from sklearn import metrics"
   ]
  },
  {
   "cell_type": "code",
   "execution_count": 3,
   "id": "e274acf0",
   "metadata": {},
   "outputs": [
    {
     "name": "stdout",
     "output_type": "stream",
     "text": [
      "   credit.policy             purpose  int.rate  installment  log.annual.inc  \\\n",
      "0              1  debt_consolidation    0.1189       829.10       11.350407   \n",
      "1              1         credit_card    0.1071       228.22       11.082143   \n",
      "2              1  debt_consolidation    0.1357       366.86       10.373491   \n",
      "3              1  debt_consolidation    0.1008       162.34       11.350407   \n",
      "4              1         credit_card    0.1426       102.92       11.299732   \n",
      "\n",
      "     dti  fico  days.with.cr.line  revol.bal  revol.util  inq.last.6mths  \\\n",
      "0  19.48   737        5639.958333      28854        52.1               0   \n",
      "1  14.29   707        2760.000000      33623        76.7               0   \n",
      "2  11.63   682        4710.000000       3511        25.6               1   \n",
      "3   8.10   712        2699.958333      33667        73.2               1   \n",
      "4  14.97   667        4066.000000       4740        39.5               0   \n",
      "\n",
      "   delinq.2yrs  pub.rec  not.fully.paid  \n",
      "0            0        0               0  \n",
      "1            0        0               0  \n",
      "2            0        0               0  \n",
      "3            0        0               0  \n",
      "4            1        0               0  \n"
     ]
    }
   ],
   "source": [
    "dataset = pd.read_csv(\"C:/Users/ELCOT/Downloads/WORK VI VII VIII (1)/WORK VII/loan_borowwer_data.csv\")\n",
    "print(dataset.head())"
   ]
  },
  {
   "cell_type": "code",
   "execution_count": 4,
   "id": "c3c36fbd",
   "metadata": {},
   "outputs": [
    {
     "name": "stdout",
     "output_type": "stream",
     "text": [
      "<class 'pandas.core.frame.DataFrame'>\n",
      "RangeIndex: 9578 entries, 0 to 9577\n",
      "Data columns (total 14 columns):\n",
      " #   Column             Non-Null Count  Dtype  \n",
      "---  ------             --------------  -----  \n",
      " 0   credit.policy      9578 non-null   int64  \n",
      " 1   purpose            9578 non-null   object \n",
      " 2   int.rate           9578 non-null   float64\n",
      " 3   installment        9578 non-null   float64\n",
      " 4   log.annual.inc     9578 non-null   float64\n",
      " 5   dti                9578 non-null   float64\n",
      " 6   fico               9578 non-null   int64  \n",
      " 7   days.with.cr.line  9578 non-null   float64\n",
      " 8   revol.bal          9578 non-null   int64  \n",
      " 9   revol.util         9578 non-null   float64\n",
      " 10  inq.last.6mths     9578 non-null   int64  \n",
      " 11  delinq.2yrs        9578 non-null   int64  \n",
      " 12  pub.rec            9578 non-null   int64  \n",
      " 13  not.fully.paid     9578 non-null   int64  \n",
      "dtypes: float64(6), int64(7), object(1)\n",
      "memory usage: 1.0+ MB\n",
      "None\n"
     ]
    }
   ],
   "source": [
    "print (dataset.info())"
   ]
  },
  {
   "cell_type": "code",
   "execution_count": 5,
   "id": "eacadf84",
   "metadata": {},
   "outputs": [
    {
     "name": "stdout",
     "output_type": "stream",
     "text": [
      "       credit.policy     int.rate  installment  log.annual.inc          dti  \\\n",
      "count    9578.000000  9578.000000  9578.000000     9578.000000  9578.000000   \n",
      "mean        0.804970     0.122640   319.089413       10.932117    12.606679   \n",
      "std         0.396245     0.026847   207.071301        0.614813     6.883970   \n",
      "min         0.000000     0.060000    15.670000        7.547502     0.000000   \n",
      "25%         1.000000     0.103900   163.770000       10.558414     7.212500   \n",
      "50%         1.000000     0.122100   268.950000       10.928884    12.665000   \n",
      "75%         1.000000     0.140700   432.762500       11.291293    17.950000   \n",
      "max         1.000000     0.216400   940.140000       14.528354    29.960000   \n",
      "\n",
      "              fico  days.with.cr.line     revol.bal   revol.util  \\\n",
      "count  9578.000000        9578.000000  9.578000e+03  9578.000000   \n",
      "mean    710.846314        4560.767197  1.691396e+04    46.799236   \n",
      "std      37.970537        2496.930377  3.375619e+04    29.014417   \n",
      "min     612.000000         178.958333  0.000000e+00     0.000000   \n",
      "25%     682.000000        2820.000000  3.187000e+03    22.600000   \n",
      "50%     707.000000        4139.958333  8.596000e+03    46.300000   \n",
      "75%     737.000000        5730.000000  1.824950e+04    70.900000   \n",
      "max     827.000000       17639.958330  1.207359e+06   119.000000   \n",
      "\n",
      "       inq.last.6mths  delinq.2yrs      pub.rec  not.fully.paid  \n",
      "count     9578.000000  9578.000000  9578.000000     9578.000000  \n",
      "mean         1.577469     0.163708     0.062122        0.160054  \n",
      "std          2.200245     0.546215     0.262126        0.366676  \n",
      "min          0.000000     0.000000     0.000000        0.000000  \n",
      "25%          0.000000     0.000000     0.000000        0.000000  \n",
      "50%          1.000000     0.000000     0.000000        0.000000  \n",
      "75%          2.000000     0.000000     0.000000        0.000000  \n",
      "max         33.000000    13.000000     5.000000        1.000000  \n"
     ]
    }
   ],
   "source": [
    "print (dataset.describe())"
   ]
  },
  {
   "cell_type": "code",
   "execution_count": 6,
   "id": "e7abb5e3",
   "metadata": {},
   "outputs": [
    {
     "data": {
      "image/png": "[encoded data removed]",
      "text/plain": [
       "<Figure size 720x432 with 1 Axes>"
      ]
     },
     "metadata": {
      "needs_background": "light"
     },
     "output_type": "display_data"
    }
   ],
   "source": [
    "plt.figure(figsize=(10,6))\n",
    "dataset[dataset['credit.policy']==0]['fico'].hist(bins=30,alpha=0.5,label='credit policy 0')\n",
    "dataset[dataset['credit.policy']==1]['fico'].hist(color='red',bins=30,alpha=0.5,label='credit policy 1')\n",
    "plt.legend()\n",
    "plt.show()"
   ]
  },
  {
   "cell_type": "code",
   "execution_count": 7,
   "id": "8d4c7d1a",
   "metadata": {},
   "outputs": [
    {
     "data": {
      "image/png": "[encoded data removed]",
      "text/plain": [
       "<Figure size 720x432 with 1 Axes>"
      ]
     },
     "metadata": {
      "needs_background": "light"
     },
     "output_type": "display_data"
    }
   ],
   "source": [
    "plt.figure(figsize=(10,6))\n",
    "dataset[dataset['not.fully.paid']==0]['fico'].hist(color='green',bins=30,alpha=0.5,label='not full paid 0')\n",
    "dataset[dataset['not.fully.paid']==1]['fico'].hist(color='red',bins=30,alpha=0.5,label='not full paid 1')\n",
    "plt.legend()\n",
    "plt.show()"
   ]
  },
  {
   "cell_type": "code",
   "execution_count": 8,
   "id": "80a1614f",
   "metadata": {},
   "outputs": [
    {
     "data": {
      "image/png": "[encoded data removed]",
      "text/plain": [
       "<Figure size 1080x504 with 1 Axes>"
      ]
     },
     "metadata": {
      "needs_background": "light"
     },
     "output_type": "display_data"
    }
   ],
   "source": [
    "import seaborn as sns\n",
    "\n",
    "plt.figure(figsize=(15,7))\n",
    "sns.countplot(x=dataset['purpose'],hue=dataset['not.fully.paid'])\n",
    "plt.show()"
   ]
  },
  {
   "cell_type": "code",
   "execution_count": 10,
   "id": "207a6d16",
   "metadata": {},
   "outputs": [
    {
     "name": "stdout",
     "output_type": "stream",
     "text": [
      "   credit.policy  int.rate  installment  log.annual.inc    dti  fico  \\\n",
      "0              1    0.1189       829.10       11.350407  19.48   737   \n",
      "1              1    0.1071       228.22       11.082143  14.29   707   \n",
      "2              1    0.1357       366.86       10.373491  11.63   682   \n",
      "3              1    0.1008       162.34       11.350407   8.10   712   \n",
      "4              1    0.1426       102.92       11.299732  14.97   667   \n",
      "\n",
      "   days.with.cr.line  revol.bal  revol.util  inq.last.6mths  delinq.2yrs  \\\n",
      "0        5639.958333      28854        52.1               0            0   \n",
      "1        2760.000000      33623        76.7               0            0   \n",
      "2        4710.000000       3511        25.6               1            0   \n",
      "3        2699.958333      33667        73.2               1            0   \n",
      "4        4066.000000       4740        39.5               0            1   \n",
      "\n",
      "   pub.rec  not.fully.paid  purpose_credit_card  purpose_debt_consolidation  \\\n",
      "0        0               0                    0                           1   \n",
      "1        0               0                    1                           0   \n",
      "2        0               0                    0                           1   \n",
      "3        0               0                    0                           1   \n",
      "4        0               0                    1                           0   \n",
      "\n",
      "   purpose_educational  purpose_home_improvement  purpose_major_purchase  \\\n",
      "0                    0                         0                       0   \n",
      "1                    0                         0                       0   \n",
      "2                    0                         0                       0   \n",
      "3                    0                         0                       0   \n",
      "4                    0                         0                       0   \n",
      "\n",
      "   purpose_small_business  \n",
      "0                       0  \n",
      "1                       0  \n",
      "2                       0  \n",
      "3                       0  \n",
      "4                       0  \n"
     ]
    }
   ],
   "source": [
    "data = pd.get_dummies(dataset,columns=['purpose'],drop_first=True)\n",
    "print (data.head())"
   ]
  },
  {
   "cell_type": "code",
   "execution_count": 11,
   "id": "223f95da",
   "metadata": {},
   "outputs": [
    {
     "name": "stdout",
     "output_type": "stream",
     "text": [
      "['credit.policy', 'int.rate', 'installment', 'log.annual.inc', 'dti', 'fico', 'days.with.cr.line', 'revol.bal', 'revol.util', 'delinq.2yrs', 'pub.rec', 'purpose_credit_card', 'purpose_debt_consolidation', 'purpose_educational', 'purpose_home_improvement', 'purpose_major_purchase', 'purpose_small_business']\n"
     ]
    }
   ],
   "source": [
    "final_data = data[:]\n",
    "final_data.drop(['inq.last.6mths'], axis=1, inplace=True)\n",
    "final_data.drop(['not.fully.paid'], axis=1, inplace=True)\n",
    "predict_var = final_data.columns\n",
    "print (list(predict_var))"
   ]
  },
  {
   "cell_type": "code",
   "execution_count": 12,
   "id": "928b0023",
   "metadata": {},
   "outputs": [],
   "source": [
    "from sklearn.model_selection import train_test_split\n",
    "\n",
    "x = final_data\n",
    "y = data['not.fully.paid']\n",
    "x_train,x_test,y_train, y_test = train_test_split(x,y, test_size=0.3, random_state=81) \n"
   ]
  },
  {
   "cell_type": "code",
   "execution_count": 13,
   "id": "7c931260",
   "metadata": {},
   "outputs": [
    {
     "name": "stdout",
     "output_type": "stream",
     "text": [
      "0.7317327766179541\n"
     ]
    }
   ],
   "source": [
    "from sklearn import tree\n",
    "\n",
    "model = tree.DecisionTreeClassifier()\n",
    "model.fit(x_train,y_train)\n",
    "prediction = model.predict(x_test)\n",
    "print (metrics.accuracy_score(prediction, y_test))"
   ]
  },
  {
   "cell_type": "code",
   "execution_count": 14,
   "id": "09fa0a40",
   "metadata": {},
   "outputs": [
    {
     "name": "stdout",
     "output_type": "stream",
     "text": [
      "[[2018  344]\n",
      " [ 427   85]]\n"
     ]
    }
   ],
   "source": [
    "print (metrics.confusion_matrix(prediction,y_test))"
   ]
  },
  {
   "cell_type": "code",
   "execution_count": 15,
   "id": "549f9f14",
   "metadata": {},
   "outputs": [
    {
     "name": "stdout",
     "output_type": "stream",
     "text": [
      "0.8475991649269311\n"
     ]
    }
   ],
   "source": [
    "from sklearn.ensemble import RandomForestClassifier\n",
    "\n",
    "classifier = RandomForestClassifier(n_estimators=100)\n",
    "classifier.fit(x_train, y_train)\n",
    "pred = classifier.predict(x_test)\n",
    "print (metrics.accuracy_score(pred, y_test))"
   ]
  },
  {
   "cell_type": "code",
   "execution_count": 16,
   "id": "1c102238",
   "metadata": {},
   "outputs": [
    {
     "name": "stdout",
     "output_type": "stream",
     "text": [
      "[[2432  425]\n",
      " [  13    4]]\n"
     ]
    }
   ],
   "source": [
    "print (metrics.confusion_matrix(pred,y_test))"
   ]
  },
  {
   "cell_type": "code",
   "execution_count": 17,
   "id": "78acccf6",
   "metadata": {},
   "outputs": [],
   "source": [
    "#The model, random forest, performed better for lower NPAs ?"
   ]
  },
  {
   "cell_type": "code",
   "execution_count": null,
   "id": "a0fc4d3b",
   "metadata": {},
   "outputs": [],
   "source": []
  }
 ],
 "metadata": {
  "kernelspec": {
   "display_name": "Python 3",
   "language": "python",
   "name": "python3"
  },
  "language_info": {
   "codemirror_mode": {
    "name": "ipython",
    "version": 3
   },
   "file_extension": ".py",
   "mimetype": "text/x-python",
   "name": "python",
   "nbconvert_exporter": "python",
   "pygments_lexer": "ipython3",
   "version": "3.8.8"
  }
 },
 "nbformat": 4,
 "nbformat_minor": 5
}
