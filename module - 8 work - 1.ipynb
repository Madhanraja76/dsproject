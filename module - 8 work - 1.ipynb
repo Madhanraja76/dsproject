{
 "cells": [
  {
   "cell_type": "code",
   "execution_count": 2,
   "id": "cd818ee6",
   "metadata": {},
   "outputs": [
    {
     "name": "stdout",
     "output_type": "stream",
     "text": [
      "Collecting sklearnNote: you may need to restart the kernel to use updated packages.\n",
      "\n",
      "  Downloading sklearn-0.0.tar.gz (1.1 kB)\n",
      "Requirement already satisfied: scikit-learn in c:\\programdata\\anaconda3\\lib\\site-packages (from sklearn) (0.24.1)\n",
      "Requirement already satisfied: scipy>=0.19.1 in c:\\programdata\\anaconda3\\lib\\site-packages (from scikit-learn->sklearn) (1.6.2)\n",
      "Requirement already satisfied: numpy>=1.13.3 in c:\\programdata\\anaconda3\\lib\\site-packages (from scikit-learn->sklearn) (1.20.1)\n",
      "Requirement already satisfied: joblib>=0.11 in c:\\programdata\\anaconda3\\lib\\site-packages (from scikit-learn->sklearn) (1.0.1)\n",
      "Requirement already satisfied: threadpoolctl>=2.0.0 in c:\\programdata\\anaconda3\\lib\\site-packages (from scikit-learn->sklearn) (2.1.0)\n",
      "Building wheels for collected packages: sklearn\n",
      "  Building wheel for sklearn (setup.py): started\n",
      "  Building wheel for sklearn (setup.py): finished with status 'done'\n",
      "  Created wheel for sklearn: filename=sklearn-0.0-py2.py3-none-any.whl size=1316 sha256=a87a6fb8cce0b4c552da37e8523eff6311fa78a902189fe1b6d6f5b0f5b55f93\n",
      "  Stored in directory: c:\\users\\elcot\\appdata\\local\\pip\\cache\\wheels\\22\\0b\\40\\fd3f795caaa1fb4c6cb738bc1f56100be1e57da95849bfc897\n",
      "Successfully built sklearn\n",
      "Installing collected packages: sklearn\n",
      "Successfully installed sklearn-0.0\n"
     ]
    }
   ],
   "source": [
    "pip install sklearn"
   ]
  },
  {
   "cell_type": "code",
   "execution_count": 3,
   "id": "db5ef310",
   "metadata": {},
   "outputs": [
    {
     "data": {
      "text/plain": [
       "<Figure size 432x288 with 0 Axes>"
      ]
     },
     "metadata": {},
     "output_type": "display_data"
    },
    {
     "data": {
      "image/png": "[encoded data removed]",
      "text/plain": [
       "<Figure size 288x288 with 1 Axes>"
      ]
     },
     "metadata": {
      "needs_background": "light"
     },
     "output_type": "display_data"
    },
    {
     "name": "stderr",
     "output_type": "stream",
     "text": [
      "C:\\ProgramData\\Anaconda3\\lib\\site-packages\\sklearn\\linear_model\\_logistic.py:763: ConvergenceWarning: lbfgs failed to converge (status=1):\n",
      "STOP: TOTAL NO. of ITERATIONS REACHED LIMIT.\n",
      "\n",
      "Increase the number of iterations (max_iter) or scale the data as shown in:\n",
      "    https://scikit-learn.org/stable/modules/preprocessing.html\n",
      "Please also refer to the documentation for alternative solver options:\n",
      "    https://scikit-learn.org/stable/modules/linear_model.html#logistic-regression\n",
      "  n_iter_i = _check_optimize_result(\n"
     ]
    },
    {
     "name": "stdout",
     "output_type": "stream",
     "text": [
      "Accuracy Score\n",
      "\n",
      "0.95\n",
      "\n",
      "\n",
      "\n",
      "Variance Ratio\n",
      "\n",
      "[0.14659533 0.13563025 0.11901049 0.08581575 0.05884243 0.04888294\n",
      " 0.04350605 0.0369122  0.03334079 0.03064325]\n",
      "\n",
      "\n",
      "\n",
      "Variance Ratio\n",
      "\n",
      "\n",
      "\n",
      "\n",
      "Confusion Metrics\n",
      "\n",
      "[[36  0  0  0  1  0  0  0  0  0]\n",
      " [ 0 31  0  0  0  0  1  0  1  2]\n",
      " [ 0  0 34  0  0  0  0  0  2  0]\n",
      " [ 0  0  0 38  0  1  0  0  0  0]\n",
      " [ 1  1  0  0 31  0  0  1  0  0]\n",
      " [ 0  2  0  0  0 29  0  0  0  2]\n",
      " [ 0  0  0  0  0  0 36  0  0  0]\n",
      " [ 0  0  0  0  0  0  0 38  0  0]\n",
      " [ 0  0  0  1  0  0  0  0 30  2]\n",
      " [ 0  0  0  1  2  2  0  1  0 33]]\n",
      "\n",
      "\n",
      "\n",
      "Classfication Report\n",
      "\n",
      "              precision    recall  f1-score   support\n",
      "\n",
      "           0       0.97      0.97      0.97        37\n",
      "           1       0.91      0.89      0.90        35\n",
      "           2       1.00      0.94      0.97        36\n",
      "           3       0.95      0.97      0.96        39\n",
      "           4       0.91      0.91      0.91        34\n",
      "           5       0.91      0.88      0.89        33\n",
      "           6       0.97      1.00      0.99        36\n",
      "           7       0.95      1.00      0.97        38\n",
      "           8       0.91      0.91      0.91        33\n",
      "           9       0.85      0.85      0.85        39\n",
      "\n",
      "    accuracy                           0.93       360\n",
      "   macro avg       0.93      0.93      0.93       360\n",
      "weighted avg       0.93      0.93      0.93       360\n",
      "\n",
      "\n",
      "\n",
      "\n"
     ]
    },
    {
     "name": "stderr",
     "output_type": "stream",
     "text": [
      "C:\\ProgramData\\Anaconda3\\lib\\site-packages\\sklearn\\linear_model\\_logistic.py:763: ConvergenceWarning: lbfgs failed to converge (status=1):\n",
      "STOP: TOTAL NO. of ITERATIONS REACHED LIMIT.\n",
      "\n",
      "Increase the number of iterations (max_iter) or scale the data as shown in:\n",
      "    https://scikit-learn.org/stable/modules/preprocessing.html\n",
      "Please also refer to the documentation for alternative solver options:\n",
      "    https://scikit-learn.org/stable/modules/linear_model.html#logistic-regression\n",
      "  n_iter_i = _check_optimize_result(\n"
     ]
    }
   ],
   "source": [
    "# https://medium.com/@parthvadhadiya424/digit-recognition-using-sk-learn-ea729fec6e3d\n",
    "# http://www.thejavageek.com/2018/04/30/principal-component-analysis-using-python/\n",
    "\n",
    "from sklearn.decomposition import PCA\n",
    "import pandas as pd\n",
    "import matplotlib.pyplot as plt\n",
    "import numpy as np\n",
    "from sklearn.datasets import load_digits\n",
    "from sklearn.model_selection import train_test_split\n",
    "from sklearn.linear_model import LogisticRegression\n",
    "from sklearn import metrics\n",
    "\n",
    "# 1.Scikit learn comes with pre-loaded dataset, load the digits dataset from that collection\n",
    "# and write a helper function to plot the image using matplotlib.\n",
    "# [Hint:Explore datasets module from scikit learn]\n",
    "digits = load_digits()\n",
    "plt.gray()\n",
    "plt.matshow(digits.images[0])\n",
    "plt.show()\n",
    "\n",
    "images = digits.images.reshape(digits.images.shape[0], -1)\n",
    "labels = digits.target\n",
    "\n",
    "\n",
    "# 2.Make a train -test split with 20% of the data set aside for testing.\n",
    "# Fit a logistic regression model and observe the accuracy.\n",
    "train_x, test_x, train_y, test_y = train_test_split(\n",
    "    images, labels, random_state=10, test_size=0.20)\n",
    "\n",
    "log_model = LogisticRegression()\n",
    "log_model.fit(train_x, train_y)\n",
    "\n",
    "predicted_values = log_model.predict(test_x)\n",
    "\n",
    "print(\"Accuracy Score\\n\")\n",
    "print(metrics.accuracy_score(test_y, predicted_values))\n",
    "print(\"\\n\\n\")\n",
    "\n",
    "# 3.Using scikit learn perform a PCA transformation such that the transformed dataset\n",
    "# can explain 95% of the variance in the original dataset. Find out the number of\n",
    "# components in the projected subspace.\n",
    "# [Hint:Refer to decomposition module of scikit learn]\n",
    "\n",
    "# To get 95% of variance n_components should be 10\n",
    "model_pca = PCA(n_components=10)\n",
    "\n",
    "model_pca.fit(images)\n",
    "\n",
    "# transform the data\n",
    "model_pca.fit(train_x, train_y)\n",
    "train_x = model_pca.transform(train_x)\n",
    "test_x = model_pca.transform(test_x)\n",
    "\n",
    "print(\"Variance Ratio\\n\")\n",
    "print(model_pca.explained_variance_ratio_)\n",
    "print(\"\\n\\n\")\n",
    "\n",
    "\n",
    "# 4.Transform the dataset and fit a logistic regression and observe the accuracy.\n",
    "# Compare it with the previous model andcomment on the accuracy.\n",
    "# [Hint: Project both the train and test samples to the new subspace]'\n",
    "log_model_1 = LogisticRegression()\n",
    "log_model_1.fit(train_x, train_y)\n",
    "\n",
    "predicted_values_1 = log_model_1.predict(test_x)\n",
    "\n",
    "print(\"Variance Ratio\\n\")\n",
    "metrics.accuracy_score(predicted_values_1, test_y)\n",
    "print(\"\\n\\n\")\n",
    "\n",
    "\n",
    "# 5.Compute the confusion matrix and count the number of instances that has gone wrong.\n",
    "# For each of the wrong sample,plot the digit along with predicted and original label.\n",
    "conf_metrics = metrics.confusion_matrix(predicted_values_1, test_y)\n",
    "classification_report = metrics.classification_report(\n",
    "    predicted_values_1, test_y)\n",
    "\n",
    "print(\"Confusion Metrics\\n\")\n",
    "print(conf_metrics)\n",
    "print(\"\\n\\n\")\n",
    "\n",
    "print(\"Classfication Report\\n\")\n",
    "print(classification_report)\n",
    "print(\"\\n\\n\")\n"
   ]
  },
  {
   "cell_type": "code",
   "execution_count": null,
   "id": "3e347daf",
   "metadata": {},
   "outputs": [],
   "source": []
  }
 ],
 "metadata": {
  "kernelspec": {
   "display_name": "Python 3",
   "language": "python",
   "name": "python3"
  },
  "language_info": {
   "codemirror_mode": {
    "name": "ipython",
    "version": 3
   },
   "file_extension": ".py",
   "mimetype": "text/x-python",
   "name": "python",
   "nbconvert_exporter": "python",
   "pygments_lexer": "ipython3",
   "version": "3.8.8"
  }
 },
 "nbformat": 4,
 "nbformat_minor": 5
}
