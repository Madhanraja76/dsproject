{
 "cells": [
  {
   "cell_type": "code",
   "execution_count": 2,
   "id": "afa30c16",
   "metadata": {},
   "outputs": [
    {
     "data": {
      "text/plain": [
       "1.0"
      ]
     },
     "execution_count": 2,
     "metadata": {},
     "output_type": "execute_result"
    }
   ],
   "source": [
    "from sklearn import metrics\n",
    "from sklearn.tree import DecisionTreeClassifier\n",
    "from sklearn.ensemble import RandomForestClassifier\n",
    "from sklearn.model_selection import train_test_split\n",
    "#from sklearn.preprocessing import Imputer\n",
    "import numpy as np\n",
    "import pandas as pd\n",
    "import matplotlib.pyplot as plt\n",
    "import seaborn as sns\n",
    "\n",
    "df_horse = pd.read_csv(\"C:/Users/ELCOT/Downloads/WORK VI VII VIII (1)/WORK VII/horse.csv\")\n",
    "df_horse.head()\n",
    "\n",
    "\n",
    "# 1.Let’s attempt to predict the survival of a horse based on various observed medical conditions.\n",
    "# Load the data from ‘horses.csv’ and observe whether it contains missing values.\n",
    "# [Hint: Pandas dataframe has a method isnull]\n",
    "df_horse.isna()\n",
    "\n",
    "Y = df_horse[\"outcome\"]\n",
    "X = df_horse.drop([\"outcome\"], axis=1)\n",
    "\n",
    "# 2.This dataset contains many categorical features, replace them with label encoding.\n",
    "# [Hint: Refer to get_dummies methods in pandas dataframe or Label encoder in scikit-learn]\n",
    "X = pd.get_dummies(X)\n",
    "X.head()\n",
    "\n",
    "# 3.Replace the missing values by the most frequent value in each column.\n",
    "# [Hint: Refer to Imputer class in Scikit learn preprocessing module]\n",
    "#from sklearn.preprocessing import Imputer\n",
    "#imp = Imputer(missing_values='NaN', strategy='mean', axis=0)\n",
    "#imp = imp.fit(df_horse.iloc[:,1:])\n",
    "#df_horse.iloc[:,1:] = imp.transform(df_horse.iloc[:,1:])\n",
    "\n",
    "X = X.apply(lambda x: x.fillna(x.value_counts().index[0]))\n",
    "\n",
    "\n",
    "# 4.Fit a decision tree classifier and observe the accuracy.\n",
    "dec_tree = DecisionTreeClassifier()\n",
    "dec_tree.fit(X, Y)\n",
    "predicted_outcome = dec_tree.predict(X)\n",
    "metrics.accuracy_score(predicted_outcome, Y)\n",
    "\n",
    "# 5.Fit a random forest classifier and observe the accuracy\n",
    "random_forest = RandomForestClassifier()\n",
    "random_forest.fit(X, Y)\n",
    "predicted_outcome = random_forest.predict(X)\n",
    "metrics.accuracy_score(predicted_outcome, Y)"
   ]
  },
  {
   "cell_type": "code",
   "execution_count": null,
   "id": "c8a7d135",
   "metadata": {},
   "outputs": [],
   "source": []
  }
 ],
 "metadata": {
  "kernelspec": {
   "display_name": "Python 3",
   "language": "python",
   "name": "python3"
  },
  "language_info": {
   "codemirror_mode": {
    "name": "ipython",
    "version": 3
   },
   "file_extension": ".py",
   "mimetype": "text/x-python",
   "name": "python",
   "nbconvert_exporter": "python",
   "pygments_lexer": "ipython3",
   "version": "3.8.8"
  }
 },
 "nbformat": 4,
 "nbformat_minor": 5
}
